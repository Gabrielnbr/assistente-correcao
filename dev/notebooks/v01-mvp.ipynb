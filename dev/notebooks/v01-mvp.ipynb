{
 "cells": [
  {
   "cell_type": "markdown",
   "metadata": {},
   "source": [
    "# 0.0 Imports"
   ]
  },
  {
   "cell_type": "code",
   "execution_count": 1,
   "metadata": {},
   "outputs": [],
   "source": [
    "from openai import OpenAI\n",
    "import pandas as pd\n",
    "from docx import Document\n",
    "from dotenv import load_dotenv, find_dotenv\n",
    "import os"
   ]
  },
  {
   "cell_type": "markdown",
   "metadata": {},
   "source": [
    "## 0.1 Load Data"
   ]
  },
  {
   "cell_type": "code",
   "execution_count": null,
   "metadata": {},
   "outputs": [],
   "source": [
    "_ = load_dotenv(find_dotenv())\n",
    "\n",
    "\n",
    "xls_path = '../data/desafioaluno.xlsx'\n",
    "doc_path = '../data/desafio.docx'\n",
    "prompt_path = '../data/prompt.docx'\n",
    "\n",
    "client = OpenAI (\n",
    "api_key = os.getenv('OPEN_API_KEY')\n",
    ")\n",
    "\n",
    "\n",
    "xls = pd.read_excel(xls_path)\n",
    "doc = Document(doc_path)\n",
    "prompt = Document(prompt_path)\n",
    "\n",
    "doc_text ='\\n'.join([paragraph.text for paragraph in doc.paragraphs])\n",
    "prompt_text = '\\n'.join([paragraph.text for paragraph in prompt.paragraphs])\n"
   ]
  },
  {
   "cell_type": "markdown",
   "metadata": {},
   "source": [
    "# 1.0 Functions"
   ]
  },
  {
   "cell_type": "code",
   "execution_count": 61,
   "metadata": {},
   "outputs": [],
   "source": [
    "xls_path = \"../data/desafioaluno.xlsx\"  # Caminho do seu arquivo Excel\n",
    "txt_path = \"../data/desafio.docx\"  # Caminho do seu arquivo de texto"
   ]
  },
  {
   "cell_type": "code",
   "execution_count": 79,
   "metadata": {},
   "outputs": [],
   "source": [
    "def ler_docx(file_path):\n",
    "    \"\"\"Lê um arquivo .docx e retorna seu conteúdo como string\"\"\"\n",
    "    doc = Document(file_path)\n",
    "    texto = \"\\n\".join([paragrafo.text for paragrafo in doc.paragraphs])\n",
    "    return texto\n",
    "\n",
    "\n",
    "def get_completion(xls_file_path, doc_text, prompt_text, model=\"gpt-4o-mini\"):\n",
    "\n",
    "    xls_data = pd.read_excel(xls_file_path)\n",
    "    xls_text = xls_data.to_string(index=False)\n",
    "\n",
    "    \n",
    "\n",
    "    # Criando mensagens\n",
    "    messages = [\n",
    "        {\"role\": \"system\", \"content\": prompt_text},\n",
    "        {\"role\": \"user\", \"content\": f\"Aqui estão os dois arquivos:\\n\\n📄 **Arquivo Excel:**\\n{xls_text}\\n\\n📄 **Arquivo Texto:**\\n{doc_text}\\n\\n\"}\n",
    "    ]\n",
    "\n",
    "    #Fazendo a requisição para OpenAI\n",
    "    response = client.chat.completions.create(\n",
    "        model=model,\n",
    "        messages=messages,\n",
    "        max_tokens=500,\n",
    "        temperature=0.1\n",
    "    )\n",
    "\n",
    "    return response.choices[0].message.content\n",
    "    #return messages"
   ]
  },
  {
   "cell_type": "markdown",
   "metadata": {},
   "source": [
    "# 2.0 Dev"
   ]
  },
  {
   "cell_type": "code",
   "execution_count": 76,
   "metadata": {},
   "outputs": [],
   "source": [
    "xls_path = \"../data/desafioaluno.xlsx\"  # Caminho do seu arquivo Excel\n",
    "txt_path = \"../data/desafio.docx\"  # Caminho do seu arquivo de texto\n"
   ]
  },
  {
   "cell_type": "code",
   "execution_count": 80,
   "metadata": {},
   "outputs": [
    {
     "name": "stdout",
     "output_type": "stream",
     "text": [
      "### Feedback Detalhado sobre o Projeto de Análise de Dados\n",
      "\n",
      "#### 1. Compreensão do Desafio\n",
      "O desafio proposto pela SuperStore foi bem compreendido. O aluno abordou as três áreas principais: retenção de clientes, segmentação de clientes e desempenho de produtos e localizações. A análise de cohort, a segmentação RFM e a avaliação de desempenho foram claramente delineadas no relatório.\n",
      "\n",
      "#### 2. Avaliação Técnica\n",
      "- **Precisão dos Cálculos e Gráficos**: A planilha apresenta dados detalhados, mas não consegui verificar a precisão dos cálculos sem uma análise mais aprofundada. É importante garantir que todos os cálculos estejam corretos e que os gráficos representem os dados de forma clara e precisa.\n",
      "- **Insights Apresentados**: Os insights sobre a retenção de clientes e a segmentação RFM estão bem fundamentados. No entanto, a análise de desempenho de produtos poderia ser mais detalhada, incluindo gráficos que mostrem a comparação entre produtos e categorias.\n",
      "- **Melhores Práticas**: O aluno utilizou boas práticas de manipulação de dados, mas poderia ter incluído mais visualizações para facilitar a interpretação dos dados.\n",
      "\n",
      "#### 3. Avaliação do Relatório\n",
      "- **Estrutura**: O relatório está bem estruturado, com uma introdução clara, desenvolvimento coerente e uma conclusão que resume as descobertas.\n",
      "- **Justificativas**: As justificativas para os métodos utilizados são adequadas, mas poderiam ser mais detalhadas em relação à escolha de gráficos e tabelas.\n",
      "- **Insights**: Os insights apresentados fazem sentido com base nos dados, mas a análise poderia ser mais aprofundada, especialmente na parte de desempenho de produtos.\n",
      "\n",
      "#### 4. Feedback e Pontuação\n",
      "**Pontos Positivos**:\n",
      "- O aluno demonstrou uma boa compreensão do desafio e abordou as áreas principais de forma clara.\n",
      "- A estrutura do relatório é lógica e fácil de seguir.\n",
      "- Os insights sobre a retenção de clientes e a segmentação RFM são relevantes e bem fundamentados.\n",
      "\n",
      "**Oportunidades de Melhoria**:\n",
      "- **Detalhamento da Análise de Produtos**: Incluir gráficos que mostrem a comparação entre produtos e categorias, além de uma análise mais profunda sobre quais produtos devem ser priorizados ou descontinuados.\n",
      "- **Visualizações**: Aumentar o uso de visualizações para facilitar a interpretação dos dados. Gráficos de barras,\n"
     ]
    }
   ],
   "source": [
    "resultado = get_completion(xls_path, doc_text, prompt_text)\n",
    "print(resultado)"
   ]
  }
 ],
 "metadata": {
  "kernelspec": {
   "display_name": ".venv",
   "language": "python",
   "name": "python3"
  },
  "language_info": {
   "codemirror_mode": {
    "name": "ipython",
    "version": 3
   },
   "file_extension": ".py",
   "mimetype": "text/x-python",
   "name": "python",
   "nbconvert_exporter": "python",
   "pygments_lexer": "ipython3",
   "version": "3.13.1"
  }
 },
 "nbformat": 4,
 "nbformat_minor": 2
}
