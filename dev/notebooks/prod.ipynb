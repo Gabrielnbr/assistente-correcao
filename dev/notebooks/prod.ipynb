{
 "cells": [
  {
   "cell_type": "markdown",
   "metadata": {},
   "source": [
    "# 0.0 Imports"
   ]
  },
  {
   "cell_type": "code",
   "execution_count": 2,
   "metadata": {},
   "outputs": [],
   "source": [
    "from openai import OpenAI\n",
    "import pandas as pd\n",
    "from docx import Document\n",
    "from dotenv import load_dotenv, find_dotenv\n",
    "import os"
   ]
  },
  {
   "cell_type": "markdown",
   "metadata": {},
   "source": [
    "# 0.1 Load Data"
   ]
  },
  {
   "cell_type": "code",
   "execution_count": 10,
   "metadata": {},
   "outputs": [],
   "source": [
    "_ = load_dotenv(find_dotenv())\n",
    "\n",
    "\n",
    "xls_path = '../data/raw/desafioaluno.xlsx'\n",
    "doc_path = '../data/raw/contexto_aluno.docx'\n",
    "prompt_path = '../data/raw/system_prompt.docx'\n",
    "\n",
    "client = OpenAI (\n",
    "api_key = os.getenv('OPEN_API_KEY')\n",
    ")\n",
    "\n",
    "\n",
    "xls = pd.read_excel(xls_path)\n",
    "doc = Document(doc_path)\n",
    "prompt = Document(prompt_path)\n",
    "\n",
    "doc_text ='\\n'.join([paragraph.text for paragraph in doc.paragraphs])\n",
    "prompt_text = '\\n'.join([paragraph.text for paragraph in prompt.paragraphs])"
   ]
  },
  {
   "cell_type": "markdown",
   "metadata": {},
   "source": [
    "# 0.2 Functions"
   ]
  },
  {
   "cell_type": "code",
   "execution_count": 7,
   "metadata": {},
   "outputs": [],
   "source": [
    "def ler_docx(file_path):\n",
    "    \"\"\"Lê um arquivo .docx e retorna seu conteúdo como string\"\"\"\n",
    "    doc = Document(file_path)\n",
    "    texto = \"\\n\".join([paragrafo.text for paragrafo in doc.paragraphs])\n",
    "    return texto\n",
    "\n",
    "\n",
    "def get_completion(xls_file_path, doc_text, prompt_text, model=\"gpt-4o-mini\"):\n",
    "\n",
    "    xls_data = pd.read_excel(xls_file_path)\n",
    "    xls_text = xls_data.to_string(index=False)\n",
    "\n",
    "    \n",
    "\n",
    "    # Criando mensagens\n",
    "    messages = [\n",
    "        {\"role\": \"system\", \"content\": prompt_text},\n",
    "        {\"role\": \"user\", \"content\": f\"Aqui estão os dois arquivos:\\n\\n📄 **Arquivo Excel:**\\n{xls_text}\\n\\n📄 **Arquivo Texto:**\\n{doc_text}\\n\\n\"}\n",
    "    ]\n",
    "\n",
    "    #Fazendo a requisição para OpenAI\n",
    "    response = client.chat.completions.create(\n",
    "        model=model,\n",
    "        messages=messages,\n",
    "        max_tokens=500,\n",
    "        temperature=0.1\n",
    "    )\n",
    "\n",
    "    return response.choices[0].message.content\n",
    "    #return messages"
   ]
  },
  {
   "cell_type": "markdown",
   "metadata": {},
   "source": [
    "# 1.0 Dev"
   ]
  },
  {
   "cell_type": "code",
   "execution_count": 8,
   "metadata": {},
   "outputs": [
    {
     "name": "stdout",
     "output_type": "stream",
     "text": [
      "### Feedback Detalhado sobre o Projeto de Análise de Dados\n",
      "\n",
      "#### 1. Compreensão do Desafio\n",
      "O aluno abordou o desafio de forma adequada, focando nas três áreas principais: retenção de clientes, segmentação de clientes e desempenho de produtos e localizações. O relatório apresenta uma análise coerente e insights relevantes, alinhando-se aos objetivos estabelecidos no desafio.\n",
      "\n",
      "#### 2. Avaliação Técnica\n",
      "- **Precisão dos Cálculos e Gráficos**: A análise de cohort foi bem executada, com a apresentação de um heatmap que ilustra a retenção de clientes. No entanto, seria interessante incluir uma análise mais detalhada sobre os fatores que influenciam a retenção, como sazonalidade e campanhas específicas.\n",
      "- **Segmentação RFM**: A segmentação foi realizada corretamente, mas faltaram gráficos que ilustrassem a distribuição dos segmentos de clientes. A inclusão de gráficos de barras ou pizza poderia facilitar a visualização dos dados.\n",
      "- **Desempenho de Produtos e Localizações**: A análise dos produtos mais e menos vendidos foi apresentada, mas faltou um ranking claro das lojas com melhor desempenho. Sugiro a inclusão de uma tabela ou gráfico que mostre essa informação de forma mais clara.\n",
      "\n",
      "#### 3. Avaliação do Relatório\n",
      "- **Estrutura**: O relatório está bem estruturado, com uma introdução clara, desenvolvimento coerente e conclusão que resume os principais insights.\n",
      "- **Justificativas**: As justificativas para as análises realizadas são adequadas, mas poderiam ser mais detalhadas em algumas seções, especialmente na parte de segmentação RFM e desempenho de produtos.\n",
      "- **Insights**: Os insights apresentados fazem sentido e estão bem alinhados com os dados. No entanto, a recomendação de ações poderia ser mais específica em relação a como implementar as estratégias sugeridas.\n",
      "\n",
      "#### 4. Feedback e Pontuação\n",
      "**Pontos Positivos**:\n",
      "- A análise de cohort foi bem executada e apresentou um heatmap claro.\n",
      "- A segmentação RFM identificou corretamente os grupos de clientes e suas características.\n",
      "- O relatório está bem estruturado e apresenta insights relevantes.\n",
      "\n",
      "**Oportunidades de Melhoria**:\n",
      "- Incluir gráficos que ilustrem a distribuição dos segmentos de clientes e o desempenho das lojas.\n",
      "- Detalhar mais as justificativas para as análises e recomendações.\n",
      "- Considerar a inclusão de uma análise mais profunda sobre os fatores\n"
     ]
    }
   ],
   "source": [
    "resultado = get_completion(xls_path, doc_text, prompt_text)\n",
    "print(resultado)"
   ]
  }
 ],
 "metadata": {
  "kernelspec": {
   "display_name": ".venv",
   "language": "python",
   "name": "python3"
  },
  "language_info": {
   "codemirror_mode": {
    "name": "ipython",
    "version": 3
   },
   "file_extension": ".py",
   "mimetype": "text/x-python",
   "name": "python",
   "nbconvert_exporter": "python",
   "pygments_lexer": "ipython3",
   "version": "3.13.1"
  }
 },
 "nbformat": 4,
 "nbformat_minor": 2
}
