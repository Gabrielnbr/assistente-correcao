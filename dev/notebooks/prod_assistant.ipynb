{
 "cells": [
  {
   "cell_type": "markdown",
   "metadata": {},
   "source": [
    "# 0.0 Imports"
   ]
  },
  {
   "cell_type": "code",
   "execution_count": 2,
   "metadata": {},
   "outputs": [],
   "source": [
    "from openai import OpenAI\n",
    "import pandas as pd\n",
    "from docx import Document\n",
    "from dotenv import load_dotenv, find_dotenv\n",
    "import os\n",
    "import time\n",
    "import logging\n",
    "from datetime import datetime"
   ]
  },
  {
   "cell_type": "markdown",
   "metadata": {},
   "source": [
    "# 0.1 Load Data"
   ]
  },
  {
   "cell_type": "code",
   "execution_count": 3,
   "metadata": {},
   "outputs": [],
   "source": [
    "_ = load_dotenv(find_dotenv())\n",
    "\n",
    "\n",
    "xls_path = '../data/raw/desafioaluno.xlsx'\n",
    "doc_path = '../data/raw/contexto_aluno.docx'\n",
    "prompt_path = '../data/raw/system_prompt.docx'\n",
    "txt_path = '../data/raw/contexto_aluno.txt'\n",
    "\n",
    "\n",
    "\n",
    "xls = pd.read_excel(xls_path)\n",
    "doc = Document(doc_path)\n",
    "prompt = Document(prompt_path)\n",
    "\n",
    "doc_text ='\\n'.join([paragraph.text for paragraph in doc.paragraphs])\n",
    "prompt_text = '\\n'.join([paragraph.text for paragraph in prompt.paragraphs])"
   ]
  },
  {
   "cell_type": "code",
   "execution_count": 4,
   "metadata": {},
   "outputs": [],
   "source": [
    "client = OpenAI (\n",
    "api_key = os.getenv('OPEN_API_KEY')\n",
    ")"
   ]
  },
  {
   "cell_type": "code",
   "execution_count": 5,
   "metadata": {},
   "outputs": [],
   "source": [
    "def upload_file(file_path):\n",
    "    \"\"\" Faz upload do arquivo para a API da OpenAI \"\"\"\n",
    "    with open(file_path, \"rb\") as file:\n",
    "        response = client.files.create(\n",
    "            file=file,\n",
    "            purpose=\"assistants\"\n",
    "        )\n",
    "    return response.id  # Retorna o ID do arquivo para ser usado depois"
   ]
  },
  {
   "cell_type": "code",
   "execution_count": 9,
   "metadata": {},
   "outputs": [
    {
     "name": "stdout",
     "output_type": "stream",
     "text": [
      "thread_gfM6KnMQqLY9Xqgx4zhfkMFp\n"
     ]
    }
   ],
   "source": [
    "# ------ Thread ------\n",
    "thread = client.beta.threads.create(\n",
    ")\n",
    "\n",
    "thread_id = thread.id\n",
    "print(thread_id)"
   ]
  },
  {
   "cell_type": "code",
   "execution_count": null,
   "metadata": {},
   "outputs": [],
   "source": [
    "client.beta.threads.delete(thread_id)"
   ]
  },
  {
   "cell_type": "code",
   "execution_count": 10,
   "metadata": {},
   "outputs": [],
   "source": [
    "xls_file_id = upload_file(xls_path)\n",
    "doc_file_id = upload_file(doc_path)\n",
    "txt_file_id = upload_file(txt_path)"
   ]
  },
  {
   "cell_type": "code",
   "execution_count": 10,
   "metadata": {},
   "outputs": [
    {
     "data": {
      "text/plain": [
       "'file-EtzyYCnwtPqY18HYTmRnG8'"
      ]
     },
     "execution_count": 10,
     "metadata": {},
     "output_type": "execute_result"
    }
   ],
   "source": [
    "txt_file_id"
   ]
  },
  {
   "cell_type": "code",
   "execution_count": 11,
   "metadata": {},
   "outputs": [],
   "source": [
    "message = client.beta.threads.messages.create(\n",
    "    thread_id=thread_id,\n",
    "    role=\"user\",\n",
    "    content=[{\"type\": \"text\", \"text\": \"Aqui está o o relatório da aluno, e a planilha de solução.\"}],\n",
    "    attachments=[{\"file_id\": txt_file_id, \"tools\": [{\"type\": \"file_search\"}]},\n",
    "                 {\"file_id\": xls_file_id, \"tools\": [{\"type\":\"code_interpreter\"}]}] \n",
    "\n",
    "\n",
    ")"
   ]
  },
  {
   "cell_type": "code",
   "execution_count": 12,
   "metadata": {},
   "outputs": [],
   "source": [
    "run = client.beta.threads.runs.create(\n",
    "    thread_id=thread_id,\n",
    "    assistant_id='asst_KKUFGJemuqQd9ZE1NdoKt73V'\n",
    ")"
   ]
  },
  {
   "cell_type": "code",
   "execution_count": 13,
   "metadata": {},
   "outputs": [],
   "source": [
    "def wait_for_run_completion(client, thread_id, run_id, sleep_interval=5):\n",
    "    \"\"\"\n",
    "\n",
    "    Waits for a run to complete and prints the elapsed time.:param client: The OpenAI client object.\n",
    "    :param thread_id: The ID of the thread.\n",
    "    :param run_id: The ID of the run.\n",
    "    :param sleep_interval: Time in seconds to wait between checks.\n",
    "    \"\"\"\n",
    "    while True:\n",
    "        try:\n",
    "            run = client.beta.threads.runs.retrieve(thread_id=thread_id, run_id=run_id)\n",
    "            if run.completed_at:\n",
    "                elapsed_time = run.completed_at - run.created_at\n",
    "                formatted_elapsed_time = time.strftime(\n",
    "                    \"%H:%M:%S\", time.gmtime(elapsed_time)\n",
    "                )\n",
    "                print(f\"Run completed in {formatted_elapsed_time}\")\n",
    "                logging.info(f\"Run completed in {formatted_elapsed_time}\")\n",
    "                # Get messages here once Run is completed!\n",
    "                messages = client.beta.threads.messages.list(thread_id=thread_id)\n",
    "                last_message = messages.data[0]\n",
    "                response = last_message.content[0].text.value\n",
    "                print(f\"Assistant Response: {response}\")\n",
    "                break\n",
    "        except Exception as e:\n",
    "            logging.error(f\"An error occurred while retrieving the run: {e}\")\n",
    "            break\n",
    "        logging.info(\"Waiting for run to complete...\")\n",
    "        time.sleep(sleep_interval)\n"
   ]
  },
  {
   "cell_type": "code",
   "execution_count": 14,
   "metadata": {},
   "outputs": [
    {
     "name": "stdout",
     "output_type": "stream",
     "text": [
      "Run completed in 00:00:34\n",
      "Assistant Response: Segue abaixo a correção do Projeto de Análise de Dados realizado pelo aluno, com base nos documentos fornecidos.\n",
      "\n",
      "### 1. Compreensão do Desafio\n",
      "\n",
      "**Objetivos do Desafio:**\n",
      "O aluno identificou corretamente que o desafio consistia em realizar uma análise detalhada da SuperStore, focando em três áreas principais: retenção de clientes (Análise de Cohort), segmentação de clientes (RFM) e desempenho de produtos e localizações.\n",
      "\n",
      "**Critérios de Sucesso:**\n",
      "Os critérios de sucesso definidos foram abordados de maneira adequada, incluindo a criação de um painel interativo e um relatório consolidado, focando nas necessidades específicas da SuperStore.\n",
      "\n",
      "### 2. Avaliação Técnica\n",
      "\n",
      "**Análise do Aluno:**\n",
      "- **Cálculos e Gráficos:** A planilha de solução contém a análise de cohort e gráficos apropriados que mostram os dados representativos de retenção de clientes. Verificarei a precisão dos cálculos e gráficos na planilha.\n",
      "- **Insights Apresentados:** O aluno trouxe insights relevantes, como a sugestão de que a sazonalidade pode estar afetando a retenção, e a identificação da região Oeste como a mais lucrativa.\n",
      "  \n",
      "### 3. Avaliação do Relatório\n",
      "\n",
      "**Estrutura do Relatório:**\n",
      "O relatório está bem estruturado. Possui uma introdução clara, desenvolvimento com análises e conclusão com recomendações práticas. \n",
      "\n",
      "**Insights Coerentes:**\n",
      "Os insights apresentados são adequados e fazem sentido em relação aos dados analisados. Destacam-se padrões de comportamento de clientes e áreas de oportunidade para a SuperStore.\n",
      "\n",
      "**Justificativas:**\n",
      "As justificativas para os métodos utilizados estão bem explicadas, especialmente no que diz respeito à análise de cohort e segmentação RFM.\n",
      "\n",
      "### 4. Feedback e Pontuação\n",
      "\n",
      "**Pontos Positivos:**\n",
      "- O aluno demonstrou uma clara compreensão do problema e dos objetivos propostos.\n",
      "- Os insights são pertinentes e oferecem direções práticas para a SuperStore.\n",
      "- A construção do relatório é clara e atende aos padrões acadêmicos.\n",
      "\n",
      "**Oportunidades de Melhoria:**\n",
      "- Seria interessante incluir comentários adicionais nas tabelas da planilha para facilitar a compreensão dos dados apresentados.\n",
      "- A análise poderia ser complementada com gráficos adicionais que mostrem a evolução do desempenho ao longo do tempo, principalmente no que se refere às vendas por categoria de produto.\n",
      "- Verificar a precisão dos cálculos na planilha, garantindo que todos os resultados estão corretos e alinhados com as análises propostas. É importante garantir que a tabela de retenção em formato de heatmap esteja corretamente representando os dados.\n",
      "\n",
      "**Pontuação:**\n",
      "Dada a análise e a qualidade da entrega, atribuo uma pontuação de **8 de 10**. O aluno atendeu à maior parte dos requisitos, embora haja espaço para pequenas melhorias na apresentação e na verificação dos dados.\n",
      "\n",
      "### Conclusão\n",
      "O trabalho do aluno foi bem executado e demonstra um bom entendimento das análises de dados. Recomendo continuar aprimorando as habilidades em visualizações e verificações de precisão em dados para garantir análises ainda mais robustas no futuro. Parabéns pela entrega!\n"
     ]
    }
   ],
   "source": [
    "wait_for_run_completion(client=client, thread_id=thread_id, run_id=run.id)"
   ]
  },
  {
   "cell_type": "markdown",
   "metadata": {},
   "source": [
    "## 1.1 Adicionando os arquivos na criação da thread"
   ]
  },
  {
   "cell_type": "code",
   "execution_count": 19,
   "metadata": {},
   "outputs": [
    {
     "name": "stdout",
     "output_type": "stream",
     "text": [
      "Run completed in 00:00:17\n",
      "Assistant Response: ### Feedback sobre o Projeto de Análise de Dados\n",
      "\n",
      "#### 1. Compreensão do Desafio\n",
      "O aluno abordou um problema prático da SuperStore com foco na retenção de clientes, segmentação e desempenho de produtos. As áreas de análise incluem os critérios de sucesso: análise de cohort, segmentação RFM e desempenho regional dos produtos. O objetivo principal de identificar insights que possam guiar decisões estratégicas foi claramente identificado e abordado.\n",
      "\n",
      "#### 2. Avaliação Técnica\n",
      "Baseando-se nos dados fornecidos e no relatório, a análise pareceu bem estruturada. A planilha deve conter os cálculos de retenção, distribuição de clientes por segmento e análises de vendas por produto e localização. \n",
      "\n",
      "- **Cálculos**: Precisarei revisar os cálculos diretamente para verificar sua precisão.\n",
      "- **Gráficos e Insights**: A descrição dos gráficos e insights apresentados no relatório parece alinhada com os dados, porém, a validação dessas visualizações na planilha é essencial.\n",
      "\n",
      "#### 3. Avaliação do Relatório\n",
      "O relatório segue uma estrutura sólida com uma introdução clara, desenvolvimento coerente e conclusões que refletem os insights obtidos.\n",
      "\n",
      "- **Insights**: Os insights sobre taxas de retenção, segmentação RFM e regiões lucrativas estão bem fundamentados. As recomendações de estratégias para melhorar a retenção e focar clientes são pertinentes e práticas.\n",
      "- **Justificativas**: Há justificativas claras para os métodos utilizados, principalmente nas análises de retenção de clientes e segmentação RFM.\n",
      "\n",
      "#### 4. Feedback e Pontuação\n",
      "**Pontos Positivos:**\n",
      "- Estrutura clara e bem organizada.\n",
      "- Insights relevantes que podem ajudar em decisões de marketing.\n",
      "- Bom entendimento das áreas analisadas.\n",
      "\n",
      "**Oportunidades de Melhoria:**\n",
      "- Recomendo que o aluno revise a planilha para garantir que todos os cálculos estejam corretos e os dados estão sendo apresentados de forma clara e acessível. \n",
      "- Sugiro realizar uma análise mais detalhada sobre o impacto de sazonalidade em estratégias futuras, tão somente se os dados permitirem tal análise.\n",
      "- A inclusão de gráficos mais explicativos e visualmente atraentes pode ajudar a entender melhor os resultados.\n",
      "\n",
      "**Pontuação:** Após considerar a aderência ao desafio e a qualidade da entrega, eu atribuiria uma pontuação de **8.5/10**. O aluno demonstrou um esforço significativo, mas há espaço para melhorias, principalmente na parte da análise técnica dos dados e visualização dos resultados.\n",
      "\n",
      "### Conclusão\n",
      "Ótimo trabalho! Com as melhorias sugeridas, o aluno pode aprimorar ainda mais sua análise e comunicá-la de maneira mais eficaz. Continuar explorando métodos de análise e inserindo novas visualizações pode levar a resultados ainda mais valiosos no futuro.\n"
     ]
    }
   ],
   "source": [
    "wait_for_run_completion(client=client, thread_id=thread2.id, run_id=run2.id)"
   ]
  },
  {
   "cell_type": "code",
   "execution_count": 13,
   "metadata": {},
   "outputs": [],
   "source": [
    "file_ids = [\"file-JG1N2ZtcwfP88H4ZFWc56e\", \"file-5SDn7GP229CjJpyuxgTotw\"]\n",
    "THREAD_ID = \"thread_jXjv6KlFMfMNlbLsjbeBPBo4\"\n",
    "\n",
    "message = client.beta.threads.messages.create(\n",
    "    thread_id=THREAD_ID,\n",
    "    role=\"user\",\n",
    "    content=[{\"type\": \"text\", \"text\": \"Aqui está o relatório e a planilha.\"}],\n",
    "    attachments=[{\"file_id\": 'file-JG1N2ZtcwfP88H4ZFWc56e', \"tools\": [{\"type\": \"file_search\"}]},\n",
    "                 {\"file_id\": 'file-5SDn7GP229CjJpyuxgTotw', \"tools\": [{\"type\":\"code_interpreter\"}]}] \n",
    "\n",
    "\n",
    ")"
   ]
  },
  {
   "cell_type": "code",
   "execution_count": 16,
   "metadata": {},
   "outputs": [],
   "source": [
    "thread2 = client.beta.threads.create(\n",
    "  messages=[\n",
    "    {\n",
    "      \"role\": \"user\",\n",
    "      \"content\": [\n",
    "        {\n",
    "          \"type\": \"text\",\n",
    "          \"text\": \"Aqui está o relatorio e a planilha.\"\n",
    "        },\n",
    "      \n",
    "      ],\n",
    "      \"attachments\": [\n",
    "          {\n",
    "              \"file_id\": txt_file_id,\n",
    "              \"tools\": [{\"type\":\"file_search\"}]\n",
    "          },\n",
    "          {\n",
    "              \"file_id\": xls_file_id,\n",
    "              \"tools\": [{\"type\":\"code_interpreter\"}]\n",
    "          }\n",
    "      ]\n",
    "    }\n",
    "  ]\n",
    ")"
   ]
  },
  {
   "cell_type": "code",
   "execution_count": 17,
   "metadata": {},
   "outputs": [],
   "source": [
    "run2 = client.beta.threads.runs.create(\n",
    "    thread_id=thread2.id,\n",
    "    assistant_id='asst_KKUFGJemuqQd9ZE1NdoKt73V',\n",
    ")"
   ]
  },
  {
   "cell_type": "code",
   "execution_count": 18,
   "metadata": {},
   "outputs": [
    {
     "data": {
      "text/plain": [
       "'thread_ezaMmUJcYLc85jSYfndvtEAD'"
      ]
     },
     "execution_count": 18,
     "metadata": {},
     "output_type": "execute_result"
    }
   ],
   "source": [
    "thread2.id"
   ]
  },
  {
   "cell_type": "code",
   "execution_count": 34,
   "metadata": {},
   "outputs": [],
   "source": [
    "file_ids = ['file-WBXe6LzkeA41shXQ7PdYeQ', 'file-5vhKz2M6ADsaUGChekvqsC']"
   ]
  },
  {
   "cell_type": "code",
   "execution_count": 11,
   "metadata": {},
   "outputs": [
    {
     "ename": "TypeError",
     "evalue": "Missing required arguments; Expected either ('assistant_id') or ('assistant_id' and 'stream') arguments to be given",
     "output_type": "error",
     "traceback": [
      "\u001b[31m---------------------------------------------------------------------------\u001b[39m",
      "\u001b[31mTypeError\u001b[39m                                 Traceback (most recent call last)",
      "\u001b[36mCell\u001b[39m\u001b[36m \u001b[39m\u001b[32mIn[11]\u001b[39m\u001b[32m, line 2\u001b[39m\n\u001b[32m      1\u001b[39m model = \u001b[33m'\u001b[39m\u001b[33mgpt-4o-mini\u001b[39m\u001b[33m'\u001b[39m\n\u001b[32m----> \u001b[39m\u001b[32m2\u001b[39m response = \u001b[43mclient\u001b[49m\u001b[43m.\u001b[49m\u001b[43mbeta\u001b[49m\u001b[43m.\u001b[49m\u001b[43mthreads\u001b[49m\u001b[43m.\u001b[49m\u001b[43mcreate_and_run\u001b[49m\u001b[43m(\u001b[49m\n\u001b[32m      3\u001b[39m \u001b[43m        \u001b[49m\u001b[43mmodel\u001b[49m\u001b[43m=\u001b[49m\u001b[43mmodel\u001b[49m\u001b[43m,\u001b[49m\n\u001b[32m      4\u001b[39m \u001b[43m        \u001b[49m\u001b[43mmessages\u001b[49m\u001b[43m=\u001b[49m\u001b[43mmessages\u001b[49m\u001b[43m,\u001b[49m\n\u001b[32m      5\u001b[39m \u001b[43m        \u001b[49m\u001b[43mfile_ids\u001b[49m\u001b[43m=\u001b[49m\u001b[43m[\u001b[49m\u001b[43mxls_file_id\u001b[49m\u001b[43m,\u001b[49m\u001b[43m \u001b[49m\u001b[43mtxt_file_id\u001b[49m\u001b[43m]\u001b[49m\u001b[43m,\u001b[49m\u001b[43m  \u001b[49m\u001b[38;5;66;43;03m# IDs dos arquivos enviados\u001b[39;49;00m\n\u001b[32m      6\u001b[39m \u001b[43m        \u001b[49m\u001b[43mmax_tokens\u001b[49m\u001b[43m=\u001b[49m\u001b[32;43m500\u001b[39;49m\u001b[43m,\u001b[49m\n\u001b[32m      7\u001b[39m \u001b[43m        \u001b[49m\u001b[43mtemperature\u001b[49m\u001b[43m=\u001b[49m\u001b[32;43m0.1\u001b[39;49m\n\u001b[32m      8\u001b[39m \u001b[43m    \u001b[49m\u001b[43m)\u001b[49m\n",
      "\u001b[36mFile \u001b[39m\u001b[32md:\\Comunidade DS\\Portifólio de Projetos\\repos\\projeto_llm\\.venv\\Lib\\site-packages\\openai\\_utils\\_utils.py:278\u001b[39m, in \u001b[36mrequired_args.<locals>.inner.<locals>.wrapper\u001b[39m\u001b[34m(*args, **kwargs)\u001b[39m\n\u001b[32m    276\u001b[39m         \u001b[38;5;28;01melse\u001b[39;00m:\n\u001b[32m    277\u001b[39m             msg = \u001b[33mf\u001b[39m\u001b[33m\"\u001b[39m\u001b[33mMissing required argument: \u001b[39m\u001b[38;5;132;01m{\u001b[39;00mquote(missing[\u001b[32m0\u001b[39m])\u001b[38;5;132;01m}\u001b[39;00m\u001b[33m\"\u001b[39m\n\u001b[32m--> \u001b[39m\u001b[32m278\u001b[39m     \u001b[38;5;28;01mraise\u001b[39;00m \u001b[38;5;167;01mTypeError\u001b[39;00m(msg)\n\u001b[32m    279\u001b[39m \u001b[38;5;28;01mreturn\u001b[39;00m func(*args, **kwargs)\n",
      "\u001b[31mTypeError\u001b[39m: Missing required arguments; Expected either ('assistant_id') or ('assistant_id' and 'stream') arguments to be given"
     ]
    }
   ],
   "source": [
    "model = 'gpt-4o-mini'\n",
    "response = client.beta.threads.create_and_run(\n",
    "        model=model,\n",
    "        messages=messages,\n",
    "        file_ids=[xls_file_id, txt_file_id],  # IDs dos arquivos enviados\n",
    "        max_tokens=500,\n",
    "        temperature=0.1\n",
    "    )"
   ]
  },
  {
   "cell_type": "markdown",
   "metadata": {},
   "source": [
    "# 0.2 Functions"
   ]
  },
  {
   "cell_type": "code",
   "execution_count": 7,
   "metadata": {},
   "outputs": [],
   "source": [
    "def ler_docx(file_path):\n",
    "    \"\"\"Lê um arquivo .docx e retorna seu conteúdo como string\"\"\"\n",
    "    doc = Document(file_path)\n",
    "    texto = \"\\n\".join([paragrafo.text for paragrafo in doc.paragraphs])\n",
    "    return texto\n",
    "\n",
    "\n",
    "def get_completion(xls_file_path, doc_text, prompt_text, model=\"gpt-4o-mini\"):\n",
    "\n",
    "    xls_data = pd.read_excel(xls_file_path)\n",
    "    xls_text = xls_data.to_string(index=False)\n",
    "\n",
    "    \n",
    "\n",
    "    # Criando mensagens\n",
    "    messages = [\n",
    "        {\"role\": \"system\", \"content\": prompt_text},\n",
    "        {\"role\": \"user\", \"content\": f\"Aqui estão os dois arquivos:\\n\\n📄 **Arquivo Excel:**\\n{xls_text}\\n\\n📄 **Arquivo Texto:**\\n{doc_text}\\n\\n\"}\n",
    "    ]\n",
    "\n",
    "    #Fazendo a requisição para OpenAI\n",
    "    response = client.chat.completions.create(\n",
    "        model=model,\n",
    "        messages=messages,\n",
    "        max_tokens=500,\n",
    "        temperature=0.1\n",
    "    )\n",
    "\n",
    "    return response.choices[0].message.content\n",
    "    #return messages"
   ]
  },
  {
   "cell_type": "markdown",
   "metadata": {},
   "source": [
    "# 1.0 Dev"
   ]
  },
  {
   "cell_type": "code",
   "execution_count": 8,
   "metadata": {},
   "outputs": [
    {
     "name": "stdout",
     "output_type": "stream",
     "text": [
      "### Feedback Detalhado sobre o Projeto de Análise de Dados\n",
      "\n",
      "#### 1. Compreensão do Desafio\n",
      "O aluno abordou o desafio de forma adequada, focando nas três áreas principais: retenção de clientes, segmentação de clientes e desempenho de produtos e localizações. O relatório apresenta uma análise coerente e insights relevantes, alinhando-se aos objetivos estabelecidos no desafio.\n",
      "\n",
      "#### 2. Avaliação Técnica\n",
      "- **Precisão dos Cálculos e Gráficos**: A análise de cohort foi bem executada, com a apresentação de um heatmap que ilustra a retenção de clientes. No entanto, seria interessante incluir uma análise mais detalhada sobre os fatores que influenciam a retenção, como sazonalidade e campanhas específicas.\n",
      "- **Segmentação RFM**: A segmentação foi realizada corretamente, mas faltaram gráficos que ilustrassem a distribuição dos segmentos de clientes. A inclusão de gráficos de barras ou pizza poderia facilitar a visualização dos dados.\n",
      "- **Desempenho de Produtos e Localizações**: A análise dos produtos mais e menos vendidos foi apresentada, mas faltou um ranking claro das lojas com melhor desempenho. Sugiro a inclusão de uma tabela ou gráfico que mostre essa informação de forma mais clara.\n",
      "\n",
      "#### 3. Avaliação do Relatório\n",
      "- **Estrutura**: O relatório está bem estruturado, com uma introdução clara, desenvolvimento coerente e conclusão que resume os principais insights.\n",
      "- **Justificativas**: As justificativas para as análises realizadas são adequadas, mas poderiam ser mais detalhadas em algumas seções, especialmente na parte de segmentação RFM e desempenho de produtos.\n",
      "- **Insights**: Os insights apresentados fazem sentido e estão bem alinhados com os dados. No entanto, a recomendação de ações poderia ser mais específica em relação a como implementar as estratégias sugeridas.\n",
      "\n",
      "#### 4. Feedback e Pontuação\n",
      "**Pontos Positivos**:\n",
      "- A análise de cohort foi bem executada e apresentou um heatmap claro.\n",
      "- A segmentação RFM identificou corretamente os grupos de clientes e suas características.\n",
      "- O relatório está bem estruturado e apresenta insights relevantes.\n",
      "\n",
      "**Oportunidades de Melhoria**:\n",
      "- Incluir gráficos que ilustrem a distribuição dos segmentos de clientes e o desempenho das lojas.\n",
      "- Detalhar mais as justificativas para as análises e recomendações.\n",
      "- Considerar a inclusão de uma análise mais profunda sobre os fatores\n"
     ]
    }
   ],
   "source": [
    "resultado = get_completion(xls_path, doc_text, prompt_text)\n",
    "print(resultado)"
   ]
  }
 ],
 "metadata": {
  "kernelspec": {
   "display_name": ".venv",
   "language": "python",
   "name": "python3"
  },
  "language_info": {
   "codemirror_mode": {
    "name": "ipython",
    "version": 3
   },
   "file_extension": ".py",
   "mimetype": "text/x-python",
   "name": "python",
   "nbconvert_exporter": "python",
   "pygments_lexer": "ipython3",
   "version": "3.13.1"
  }
 },
 "nbformat": 4,
 "nbformat_minor": 2
}
